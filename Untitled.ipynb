{
 "cells": [
  {
   "cell_type": "code",
   "execution_count": null,
   "id": "b171461e",
   "metadata": {},
   "outputs": [],
   "source": [
    "import requests"
   ]
  },
  {
   "cell_type": "code",
   "execution_count": null,
   "id": "4fb69f73",
   "metadata": {},
   "outputs": [],
   "source": [
    "api_key='b0e9505b6124814aa84ddc2cd586d02b'\n",
    "base_url='https://api.the-odds-api.com/v4'\n",
    "res = requests.get(base_url+'/sports/basketball_nba/events/9775829c11d30d986a7a6b0dbbcfdaf8/odds', params={'apiKey':api_key, 'regions':'us','oddsFormat':'american', 'markets':'player_points'})"
   ]
  },
  {
   "cell_type": "code",
   "execution_count": null,
   "id": "c3d23fee",
   "metadata": {},
   "outputs": [],
   "source": [
    "res.text"
   ]
  },
  {
   "cell_type": "code",
   "execution_count": null,
   "id": "9815df30",
   "metadata": {},
   "outputs": [],
   "source": [
    "res"
   ]
  },
  {
   "cell_type": "code",
   "execution_count": null,
   "id": "42164c85",
   "metadata": {},
   "outputs": [],
   "source": [
    "res.json()"
   ]
  },
  {
   "cell_type": "code",
   "execution_count": null,
   "id": "cf1180c8",
   "metadata": {},
   "outputs": [],
   "source": []
  }
 ],
 "metadata": {
  "kernelspec": {
   "display_name": "Python 3 (ipykernel)",
   "language": "python",
   "name": "python3"
  },
  "language_info": {
   "codemirror_mode": {
    "name": "ipython",
    "version": 3
   },
   "file_extension": ".py",
   "mimetype": "text/x-python",
   "name": "python",
   "nbconvert_exporter": "python",
   "pygments_lexer": "ipython3",
   "version": "3.10.12"
  }
 },
 "nbformat": 4,
 "nbformat_minor": 5
}
